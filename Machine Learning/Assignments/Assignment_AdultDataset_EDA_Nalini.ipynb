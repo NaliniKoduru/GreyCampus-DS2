{
 "cells": [
  {
   "cell_type": "markdown",
   "metadata": {},
   "source": [
    "################################# Assignment_AdultDataset_EDA #################################################################"
   ]
  },
  {
   "cell_type": "markdown",
   "metadata": {
    "_uuid": "89ef93231815456f4e0bc5dcc00b094aee800993"
   },
   "source": [
    "**In this task you should use Pandas to answer a few questions about the Adult Dataset(provided)."
   ]
  },
  {
   "cell_type": "markdown",
   "metadata": {
    "_uuid": "c322301ac858c748f8f80e63cf6f734fc70dde30"
   },
   "source": [
    "Unique values of all features:\n",
    "- `age`: continuous.\n",
    "- `workclass`: Private, Self-emp-not-inc, Self-emp-inc, Federal-gov, Local-gov, State-gov, Without-pay, Never-worked.\n",
    "- `fnlwgt`: continuous.\n",
    "- `education`: Bachelors, Some-college, 11th, HS-grad, Prof-school, Assoc-acdm, Assoc-voc, 9th, 7th-8th, 12th, Masters, 1st-4th, 10th, Doctorate, 5th-6th, Preschool.\n",
    "- `education-num`: continuous.\n",
    "- `marital-status`: Married-civ-spouse, Divorced, Never-married, Separated, Widowed, Married-spouse-absent, Married-AF-spouse.\n",
    "- `occupation`: Tech-support, Craft-repair, Other-service, Sales, Exec-managerial, Prof-specialty, Handlers-cleaners, Machine-op-inspct, Adm-clerical, Farming-fishing, Transport-moving, Priv-house-serv, Protective-serv, Armed-Forces.\n",
    "- `relationship`: Wife, Own-child, Husband, Not-in-family, Other-relative, Unmarried.\n",
    "- `race`: White, Asian-Pac-Islander, Amer-Indian-Eskimo, Other, Black.\n",
    "- `sex`: Female, Male.\n",
    "- `capital-gain`: continuous.\n",
    "- `capital-loss`: continuous.\n",
    "- `hours-per-week`: continuous.\n",
    "- `native-country`: United-States, Cambodia, England, Puerto-Rico, Canada, Germany, Outlying-US(Guam-USVI-etc), India, Japan, Greece, South, China, Cuba, Iran, Honduras, Philippines, Italy, Poland, Jamaica, Vietnam, Mexico, Portugal, Ireland, France, Dominican-Republic, Laos, Ecuador, Taiwan, Haiti, Columbia, Hungary, Guatemala, Nicaragua, Scotland, Thailand, Yugoslavia, El-Salvador, Trinadad&Tobago, Peru, Hong, Holand-Netherlands.   \n",
    "- `salary`: >50K,<=50K"
   ]
  },
  {
   "cell_type": "code",
   "execution_count": 3,
   "metadata": {
    "_uuid": "d3eb2411e23b7db11e4cbbb498a42752442a6f4c"
   },
   "outputs": [],
   "source": [
    "import pandas as pd"
   ]
  },
  {
   "cell_type": "code",
   "execution_count": 4,
   "metadata": {
    "_uuid": "c5119d1b8151029b4ff57735c4279b795ae492a2"
   },
   "outputs": [
    {
     "data": {
      "text/html": [
       "<div>\n",
       "<style scoped>\n",
       "    .dataframe tbody tr th:only-of-type {\n",
       "        vertical-align: middle;\n",
       "    }\n",
       "\n",
       "    .dataframe tbody tr th {\n",
       "        vertical-align: top;\n",
       "    }\n",
       "\n",
       "    .dataframe thead th {\n",
       "        text-align: right;\n",
       "    }\n",
       "</style>\n",
       "<table border=\"1\" class=\"dataframe\">\n",
       "  <thead>\n",
       "    <tr style=\"text-align: right;\">\n",
       "      <th></th>\n",
       "      <th>age</th>\n",
       "      <th>workclass</th>\n",
       "      <th>fnlwgt</th>\n",
       "      <th>education</th>\n",
       "      <th>education-num</th>\n",
       "      <th>marital-status</th>\n",
       "      <th>occupation</th>\n",
       "      <th>relationship</th>\n",
       "      <th>race</th>\n",
       "      <th>sex</th>\n",
       "      <th>capitalgain</th>\n",
       "      <th>capitalloss</th>\n",
       "      <th>hoursperweek</th>\n",
       "      <th>native-country</th>\n",
       "      <th>class</th>\n",
       "    </tr>\n",
       "  </thead>\n",
       "  <tbody>\n",
       "    <tr>\n",
       "      <th>0</th>\n",
       "      <td>2</td>\n",
       "      <td>State-gov</td>\n",
       "      <td>77516</td>\n",
       "      <td>Bachelors</td>\n",
       "      <td>13</td>\n",
       "      <td>Never-married</td>\n",
       "      <td>Adm-clerical</td>\n",
       "      <td>Not-in-family</td>\n",
       "      <td>White</td>\n",
       "      <td>Male</td>\n",
       "      <td>1</td>\n",
       "      <td>0</td>\n",
       "      <td>2</td>\n",
       "      <td>United-States</td>\n",
       "      <td>&lt;=50K</td>\n",
       "    </tr>\n",
       "    <tr>\n",
       "      <th>1</th>\n",
       "      <td>3</td>\n",
       "      <td>Self-emp-not-inc</td>\n",
       "      <td>83311</td>\n",
       "      <td>Bachelors</td>\n",
       "      <td>13</td>\n",
       "      <td>Married-civ-spouse</td>\n",
       "      <td>Exec-managerial</td>\n",
       "      <td>Husband</td>\n",
       "      <td>White</td>\n",
       "      <td>Male</td>\n",
       "      <td>0</td>\n",
       "      <td>0</td>\n",
       "      <td>0</td>\n",
       "      <td>United-States</td>\n",
       "      <td>&lt;=50K</td>\n",
       "    </tr>\n",
       "    <tr>\n",
       "      <th>2</th>\n",
       "      <td>2</td>\n",
       "      <td>Private</td>\n",
       "      <td>215646</td>\n",
       "      <td>HS-grad</td>\n",
       "      <td>9</td>\n",
       "      <td>Divorced</td>\n",
       "      <td>Handlers-cleaners</td>\n",
       "      <td>Not-in-family</td>\n",
       "      <td>White</td>\n",
       "      <td>Male</td>\n",
       "      <td>0</td>\n",
       "      <td>0</td>\n",
       "      <td>2</td>\n",
       "      <td>United-States</td>\n",
       "      <td>&lt;=50K</td>\n",
       "    </tr>\n",
       "    <tr>\n",
       "      <th>3</th>\n",
       "      <td>3</td>\n",
       "      <td>Private</td>\n",
       "      <td>234721</td>\n",
       "      <td>11th</td>\n",
       "      <td>7</td>\n",
       "      <td>Married-civ-spouse</td>\n",
       "      <td>Handlers-cleaners</td>\n",
       "      <td>Husband</td>\n",
       "      <td>Black</td>\n",
       "      <td>Male</td>\n",
       "      <td>0</td>\n",
       "      <td>0</td>\n",
       "      <td>2</td>\n",
       "      <td>United-States</td>\n",
       "      <td>&lt;=50K</td>\n",
       "    </tr>\n",
       "    <tr>\n",
       "      <th>4</th>\n",
       "      <td>1</td>\n",
       "      <td>Private</td>\n",
       "      <td>338409</td>\n",
       "      <td>Bachelors</td>\n",
       "      <td>13</td>\n",
       "      <td>Married-civ-spouse</td>\n",
       "      <td>Prof-specialty</td>\n",
       "      <td>Wife</td>\n",
       "      <td>Black</td>\n",
       "      <td>Female</td>\n",
       "      <td>0</td>\n",
       "      <td>0</td>\n",
       "      <td>2</td>\n",
       "      <td>Cuba</td>\n",
       "      <td>&lt;=50K</td>\n",
       "    </tr>\n",
       "  </tbody>\n",
       "</table>\n",
       "</div>"
      ],
      "text/plain": [
       "   age         workclass  fnlwgt  education  education-num  \\\n",
       "0    2         State-gov   77516  Bachelors             13   \n",
       "1    3  Self-emp-not-inc   83311  Bachelors             13   \n",
       "2    2           Private  215646    HS-grad              9   \n",
       "3    3           Private  234721       11th              7   \n",
       "4    1           Private  338409  Bachelors             13   \n",
       "\n",
       "       marital-status         occupation   relationship   race     sex  \\\n",
       "0       Never-married       Adm-clerical  Not-in-family  White    Male   \n",
       "1  Married-civ-spouse    Exec-managerial        Husband  White    Male   \n",
       "2            Divorced  Handlers-cleaners  Not-in-family  White    Male   \n",
       "3  Married-civ-spouse  Handlers-cleaners        Husband  Black    Male   \n",
       "4  Married-civ-spouse     Prof-specialty           Wife  Black  Female   \n",
       "\n",
       "   capitalgain  capitalloss  hoursperweek native-country  class  \n",
       "0            1            0             2  United-States  <=50K  \n",
       "1            0            0             0  United-States  <=50K  \n",
       "2            0            0             2  United-States  <=50K  \n",
       "3            0            0             2  United-States  <=50K  \n",
       "4            0            0             2           Cuba  <=50K  "
      ]
     },
     "execution_count": 4,
     "metadata": {},
     "output_type": "execute_result"
    }
   ],
   "source": [
    "data = pd.read_csv(r'C:\\Users\\korad\\Downloads\\adult_csv.csv')\n",
    "data.head()"
   ]
  },
  {
   "cell_type": "markdown",
   "metadata": {
    "_uuid": "6b19853f936853d40971b56f4d298ab55ee78cac"
   },
   "source": [
    "**1. How many men and women (*sex* feature) are represented in this dataset?** "
   ]
  },
  {
   "cell_type": "code",
   "execution_count": 8,
   "metadata": {
    "_uuid": "d32cafcbe966dbdfa40c3017d16d6f8c96bfb3e2"
   },
   "outputs": [
    {
     "data": {
      "text/plain": [
       "Male      32650\n",
       "Female    16192\n",
       "Name: sex, dtype: int64"
      ]
     },
     "execution_count": 8,
     "metadata": {},
     "output_type": "execute_result"
    }
   ],
   "source": [
    "data['sex'].value_counts()"
   ]
  },
  {
   "cell_type": "markdown",
   "metadata": {
    "_uuid": "4748793234a5d325ea60d13331ecf93e29774523"
   },
   "source": [
    "**2. What is the average age (*age* feature) of women?**"
   ]
  },
  {
   "cell_type": "code",
   "execution_count": 30,
   "metadata": {
    "_uuid": "64f60d928855107d8980875656dcdf3587d91646"
   },
   "outputs": [
    {
     "data": {
      "text/plain": [
       "1.6038784584980237"
      ]
     },
     "execution_count": 30,
     "metadata": {},
     "output_type": "execute_result"
    }
   ],
   "source": [
    "data.loc[data['sex'] == 'Female', 'age'].mean()"
   ]
  },
  {
   "cell_type": "markdown",
   "metadata": {
    "_uuid": "80e87c421c348067e88769c64e554206c51727d1"
   },
   "source": [
    "**3. What is the percentage of German citizens (*native-country* feature)?**"
   ]
  },
  {
   "cell_type": "code",
   "execution_count": 27,
   "metadata": {
    "_uuid": "ca9807509692638bd945671ed7d8b4a5ad1f3626"
   },
   "outputs": [
    {
     "data": {
      "text/plain": [
       "0.421768150362393"
      ]
     },
     "execution_count": 27,
     "metadata": {},
     "output_type": "execute_result"
    }
   ],
   "source": [
    "#float((data['native-country'] == 'Germany').sum()) \n",
    "#Total = data.shape[0] or \n",
    "# Total = data.count()\n",
    "#Total\n",
    "# Percentage of german citizens = (no. of german citizens / Total no. of citizens) * 100\n",
    "\n",
    "float((data['native-country'] == 'Germany').sum()) / data.shape[0] * 100 "
   ]
  },
  {
   "cell_type": "markdown",
   "metadata": {
    "_uuid": "be9911cf525df4fca2c1d14b8720bc8a82f462e7"
   },
   "source": [
    "**4-5. What are the mean and standard deviation of age for those who earn more than 50K per year (*salary* feature) and those who earn less than 50K per year? **"
   ]
  },
  {
   "cell_type": "code",
   "execution_count": 5,
   "metadata": {
    "_uuid": "97948f0115f949913d211627151b5605bcd204fd"
   },
   "outputs": [
    {
     "name": "stdout",
     "output_type": "stream",
     "text": [
      "Mean of age for those who earn less than 50K: 1.5902301170771094\n",
      "Standard Deviation of age for those who earn less than 50K: 1.3222117421838715\n",
      "Mean of age for those who earn more than 50K: 2.3460254984170446\n",
      "Standard Deviation of age for those who earn more than 50K: 1.010075584122801\n"
     ]
    }
   ],
   "source": [
    "# Renaming the class column as salary feature\n",
    "data = data.rename(columns= {'class':'salary'})\n",
    "data.head()\n",
    "\n",
    "print('Mean of age for those who earn less than 50K:', data.loc[data['salary'] == '<=50K','age'].mean())\n",
    "print('Standard Deviation of age for those who earn less than 50K:', data.loc[data['salary'] == '<=50K', 'age'].std())\n",
    "print('Mean of age for those who earn more than 50K:', data.loc[data['salary'] == '>50K', 'age'].mean())\n",
    "print('Standard Deviation of age for those who earn more than 50K:', data.loc[data['salary'] == '>50K', 'age'].std())\n"
   ]
  },
  {
   "cell_type": "markdown",
   "metadata": {
    "_uuid": "180c3fe6f8b250b877c1d86866067b80acabdb64"
   },
   "source": [
    "**6. Is it true that people who earn more than 50K have at least high school education? (*education – Bachelors, Prof-school, Assoc-acdm, Assoc-voc, Masters* or *Doctorate* feature)**"
   ]
  },
  {
   "cell_type": "code",
   "execution_count": 6,
   "metadata": {
    "_uuid": "58f38ebfa2b0e1418a6a1a680d0743697f9876a2"
   },
   "outputs": [
    {
     "data": {
      "text/plain": [
       "False"
      ]
     },
     "execution_count": 6,
     "metadata": {},
     "output_type": "execute_result"
    }
   ],
   "source": [
    "data.loc[data['salary'] == '>50K', 'education'].unique()\n",
    "\n",
    "#oR\n",
    "\n",
    "edu_hs = [ 'Bachelors', 'Prof-school', 'Assoc-acdm', 'Assoc-voc', 'Masters', 'Doctorate']\n",
    "edu_uhs= ['Some-college', '11th', 'HS-grad','9th', '7th-8th', '12th','1st-4th', '10th','5th-6th', 'Preschool']\n",
    "\n",
    "data.loc[data['salary'] == '>50K','education'].isin(edu_hs).all()\n",
    "data.loc[data['salary'] == '>50K', 'education'].isin(edu_uhs).all()\n",
    "\n",
    "# NO, it's not true that people who earn more than 50K have atleast high school education. Few of them are from under high school education."
   ]
  },
  {
   "cell_type": "markdown",
   "metadata": {
    "_uuid": "87d6bc9ec1c230e66416ce94533ea250368009cc"
   },
   "source": [
    "**7. Display age statistics for each race (*race* feature) and each gender (*sex* feature). Use *groupby()* and *describe()*. Find the maximum age of men of *Amer-Indian-Eskimo* race.**"
   ]
  },
  {
   "cell_type": "code",
   "execution_count": 7,
   "metadata": {
    "_uuid": "a4567b72200b583f7f2ee1583405d636c12169db"
   },
   "outputs": [
    {
     "name": "stdout",
     "output_type": "stream",
     "text": [
      "race_describe                         age                                               \\\n",
      "                      count      mean       std  min  25%  50%  75%  max   \n",
      "race                                                                       \n",
      "Amer-Indian-Eskimo    470.0  1.595745  1.190932  0.0  1.0  1.0  2.0  4.0   \n",
      "Asian-Pac-Islander   1519.0  1.680053  1.210000  0.0  1.0  2.0  2.0  4.0   \n",
      "Black                4685.0  1.712273  1.247384  0.0  1.0  2.0  3.0  4.0   \n",
      "Other                 406.0  1.315271  1.150035  0.0  0.0  1.0  2.0  4.0   \n",
      "White               41762.0  1.787390  1.304864  0.0  1.0  2.0  3.0  4.0   \n",
      "\n",
      "                     fnlwgt                 ... capitalloss      hoursperweek  \\\n",
      "                      count           mean  ...         75%  max        count   \n",
      "race                                        ...                                 \n",
      "Amer-Indian-Eskimo    470.0  120110.985106  ...         0.0  3.0        470.0   \n",
      "Asian-Pac-Islander   1519.0  159796.946675  ...         0.0  4.0       1519.0   \n",
      "Black                4685.0  230485.070438  ...         0.0  4.0       4685.0   \n",
      "Other                 406.0  195715.689655  ...         0.0  4.0        406.0   \n",
      "White               41762.0  186894.995738  ...         0.0  4.0      41762.0   \n",
      "\n",
      "                                                                  \n",
      "                        mean       std  min   25%  50%  75%  max  \n",
      "race                                                              \n",
      "Amer-Indian-Eskimo  1.938298  0.847938  0.0  2.00  2.0  2.0  4.0  \n",
      "Asian-Pac-Islander  1.912442  0.886643  0.0  2.00  2.0  2.0  4.0  \n",
      "Black               1.821772  0.787143  0.0  2.00  2.0  2.0  4.0  \n",
      "Other               1.834975  0.822437  0.0  1.25  2.0  2.0  4.0  \n",
      "White               1.967818  0.908874  0.0  2.00  2.0  2.0  4.0  \n",
      "\n",
      "[5 rows x 48 columns] \n",
      " gender_describe             age                                                fnlwgt  \\\n",
      "          count      mean       std  min  25%  50%  75%  max    count   \n",
      "sex                                                                     \n",
      "Female  16192.0  1.603878  1.331462  0.0  0.0  1.0  3.0  4.0  16192.0   \n",
      "Male    32650.0  1.853997  1.268980  0.0  1.0  2.0  3.0  4.0  32650.0   \n",
      "\n",
      "                       ... capitalloss      hoursperweek                      \\\n",
      "                 mean  ...         75%  max        count      mean       std   \n",
      "sex                    ...                                                     \n",
      "Female  185504.471714  ...         0.0  4.0      16192.0  1.646492  0.900405   \n",
      "Male    191727.021623  ...         0.0  4.0      32650.0  2.101562  0.856181   \n",
      "\n",
      "                                 \n",
      "        min  25%  50%  75%  max  \n",
      "sex                              \n",
      "Female  0.0  1.0  2.0  2.0  4.0  \n",
      "Male    0.0  2.0  2.0  3.0  4.0  \n",
      "\n",
      "[2 rows x 48 columns]\n"
     ]
    }
   ],
   "source": [
    "# race by describe()\n",
    "race_describe=data.groupby(\"race\").describe()\n",
    "\n",
    "#gender by describe()\n",
    "sex_describe=data.groupby(\"sex\").describe()\n",
    "\n",
    "print(\"race_describe\",race_describe,\"\\n gender_describe\",sex_describe)\n",
    "\n",
    "# The maximum age of men of Amer-Indian-Eskimo race: 4.0"
   ]
  },
  {
   "cell_type": "markdown",
   "metadata": {
    "_uuid": "19411d604b0d4337a4a048a2f0e898541f39ab76"
   },
   "source": [
    "**8. Among whom is the proportion of those who earn a lot (>50K) greater: married or single men (*marital-status* feature)? Consider as married those who have a *marital-status* starting with *Married* (Married-civ-spouse, Married-spouse-absent or Married-AF-spouse), the rest are considered bachelors.**"
   ]
  },
  {
   "cell_type": "code",
   "execution_count": 8,
   "metadata": {
    "_uuid": "5bb3a8524fcbd794707075ccf6aaf8dd0f30a3dd"
   },
   "outputs": [
    {
     "data": {
      "text/plain": [
       "Married-civ-spouse       9984\n",
       "Never-married             733\n",
       "Divorced                  671\n",
       "Widowed                   128\n",
       "Separated                  99\n",
       "Married-spouse-absent      58\n",
       "Married-AF-spouse          14\n",
       "Name: marital-status, dtype: int64"
      ]
     },
     "execution_count": 8,
     "metadata": {},
     "output_type": "execute_result"
    }
   ],
   "source": [
    "data.loc[data['salary'] == '>50K' , 'marital-status'].value_counts()"
   ]
  },
  {
   "cell_type": "code",
   "execution_count": 9,
   "metadata": {},
   "outputs": [
    {
     "data": {
      "text/plain": [
       "<=50K    11414\n",
       ">50K      1001\n",
       "Name: salary, dtype: int64"
      ]
     },
     "execution_count": 9,
     "metadata": {},
     "output_type": "execute_result"
    }
   ],
   "source": [
    "data.loc[(data['sex'] == 'Male') &\n",
    "     (data['marital-status'].isin(['Never-married', \n",
    "                                   'Separated', \n",
    "                                   'Divorced',\n",
    "                                   'Widowed'])), 'salary'].value_counts()"
   ]
  },
  {
   "cell_type": "code",
   "execution_count": 10,
   "metadata": {},
   "outputs": [
    {
     "data": {
      "text/plain": [
       "<=50K    11318\n",
       ">50K      8917\n",
       "Name: salary, dtype: int64"
      ]
     },
     "execution_count": 10,
     "metadata": {},
     "output_type": "execute_result"
    }
   ],
   "source": [
    "data.loc[(data['sex'] == 'Male') &\n",
    "     (data['marital-status'].str.startswith('Married')), 'salary'].value_counts()\n",
    "\n",
    "# the proportion of married men are more than bachelors who earn more (>50K)"
   ]
  },
  {
   "cell_type": "markdown",
   "metadata": {
    "_uuid": "34f2076e7d331b95a23b990372809b709d2c8183"
   },
   "source": [
    "**9. What is the maximum number of hours a person works per week (*hours-per-week* feature)? How many people work such a number of hours, and what is the percentage of those who earn a lot (>50K) among them?**"
   ]
  },
  {
   "cell_type": "code",
   "execution_count": 19,
   "metadata": {
    "_uuid": "3571468172fc4bcf34e10b3d6ab358d4e41f7ef4"
   },
   "outputs": [
    {
     "name": "stdout",
     "output_type": "stream",
     "text": [
      "Maximum number of hours a person works per week : 4\n",
      "1676 people work 4 hours\n",
      "percentage:  35.73985680190931\n"
     ]
    }
   ],
   "source": [
    "print('Maximum number of hours a person works per week :' ,data['hoursperweek'].max())\n",
    "no_of_people = data.loc[data['hoursperweek'] == data['hoursperweek'].max()].count().max()\n",
    "print(no_of_people,'people work',data['hoursperweek'].max(),'hours')\n",
    "maxhours_maxsalary=(data.loc[data['hoursperweek'] == data['hoursperweek'].max()]['salary'] == '>50K').value_counts()\n",
    "percentage=((maxhours_maxsalary[True])/no_of_people)*100\n",
    "print('Percentage: ',percentage)"
   ]
  },
  {
   "cell_type": "markdown",
   "metadata": {
    "_uuid": "d539d4d137fac1c5ea25bc516188eb657d67e9b4"
   },
   "source": [
    "**10. Count the average time of work (*hours-per-week*) for those who earn a little and a lot (*salary*) for each country (*native-country*). What will these be for Japan?**"
   ]
  },
  {
   "cell_type": "code",
   "execution_count": 24,
   "metadata": {
    "_uuid": "75a93411f1e3b519afcc27c026aaa0c67eb526e9"
   },
   "outputs": [
    {
     "name": "stdout",
     "output_type": "stream",
     "text": [
      "Cambodia <=50K Avg_time_work: 2.05\n",
      "Cambodia >50K Avg_time_work: 2.22\n",
      "Canada <=50K Avg_time_work: 1.74\n",
      "Canada >50K Avg_time_work: 2.4\n",
      "China <=50K Avg_time_work: 1.67\n",
      "China >50K Avg_time_work: 2.0\n",
      "Columbia <=50K Avg_time_work: 1.83\n",
      "Columbia >50K Avg_time_work: 3.0\n",
      "Cuba <=50K Avg_time_work: 1.88\n",
      "Cuba >50K Avg_time_work: 2.09\n",
      "Dominican-Republic <=50K Avg_time_work: 2.03\n",
      "Dominican-Republic >50K Avg_time_work: 2.2\n",
      "Ecuador <=50K Avg_time_work: 1.79\n",
      "Ecuador >50K Avg_time_work: 2.67\n",
      "El-Salvador <=50K Avg_time_work: 1.65\n",
      "El-Salvador >50K Avg_time_work: 2.09\n",
      "England <=50K Avg_time_work: 1.82\n",
      "England >50K Avg_time_work: 2.4\n",
      "France <=50K Avg_time_work: 1.95\n",
      "France >50K Avg_time_work: 2.31\n",
      "Germany <=50K Avg_time_work: 1.84\n",
      "Germany >50K Avg_time_work: 2.36\n",
      "Greece <=50K Avg_time_work: 2.03\n",
      "Greece >50K Avg_time_work: 2.94\n",
      "Guatemala <=50K Avg_time_work: 1.89\n",
      "Guatemala >50K Avg_time_work: 1.67\n",
      "Haiti <=50K Avg_time_work: 1.65\n",
      "Haiti >50K Avg_time_work: 1.89\n",
      "Holand-Netherlands <=50K Avg_time_work: 2.0\n",
      "Honduras <=50K Avg_time_work: 1.39\n",
      "Honduras >50K Avg_time_work: 2.5\n",
      "Hong <=50K Avg_time_work: 1.86\n",
      "Hong >50K Avg_time_work: 2.25\n",
      "Hungary <=50K Avg_time_work: 1.54\n",
      "Hungary >50K Avg_time_work: 2.5\n",
      "India <=50K Avg_time_work: 1.74\n",
      "India >50K Avg_time_work: 2.42\n",
      "Iran <=50K Avg_time_work: 1.95\n",
      "Iran >50K Avg_time_work: 2.5\n",
      "Ireland <=50K Avg_time_work: 2.0\n",
      "Ireland >50K Avg_time_work: 2.27\n",
      "Italy <=50K Avg_time_work: 1.8\n",
      "Italy >50K Avg_time_work: 2.35\n",
      "Jamaica <=50K Avg_time_work: 1.77\n",
      "Jamaica >50K Avg_time_work: 2.2\n",
      "Japan <=50K Avg_time_work: 1.9\n",
      "Japan >50K Avg_time_work: 2.44\n",
      "Laos <=50K Avg_time_work: 1.86\n",
      "Laos >50K Avg_time_work: 2.0\n",
      "Mexico <=50K Avg_time_work: 1.91\n",
      "Mexico >50K Avg_time_work: 2.32\n",
      "Nicaragua <=50K Avg_time_work: 1.72\n",
      "Nicaragua >50K Avg_time_work: 1.67\n",
      "Outlying-US(Guam-USVI-etc) <=50K Avg_time_work: 2.0\n",
      "Outlying-US(Guam-USVI-etc) >50K Avg_time_work: 2.0\n",
      "Peru <=50K Avg_time_work: 1.67\n",
      "Peru >50K Avg_time_work: 2.0\n",
      "Philippines <=50K Avg_time_work: 1.79\n",
      "Philippines >50K Avg_time_work: 2.21\n",
      "Poland <=50K Avg_time_work: 1.73\n",
      "Poland >50K Avg_time_work: 2.0\n",
      "Portugal <=50K Avg_time_work: 2.0\n",
      "Portugal >50K Avg_time_work: 2.5\n",
      "Puerto-Rico <=50K Avg_time_work: 1.85\n",
      "Puerto-Rico >50K Avg_time_work: 2.0\n",
      "Scotland <=50K Avg_time_work: 1.94\n",
      "Scotland >50K Avg_time_work: 2.33\n",
      "South <=50K Avg_time_work: 1.96\n",
      "South >50K Avg_time_work: 2.75\n",
      "Taiwan <=50K Avg_time_work: 1.62\n",
      "Taiwan >50K Avg_time_work: 2.31\n",
      "Thailand <=50K Avg_time_work: 2.08\n",
      "Thailand >50K Avg_time_work: 3.0\n",
      "Trinadad&Tobago <=50K Avg_time_work: 1.88\n",
      "Trinadad&Tobago >50K Avg_time_work: 2.0\n",
      "United-States <=50K Avg_time_work: 1.83\n",
      "United-States >50K Avg_time_work: 2.33\n",
      "Vietnam <=50K Avg_time_work: 1.77\n",
      "Vietnam >50K Avg_time_work: 2.0\n",
      "Yugoslavia <=50K Avg_time_work: 1.87\n",
      "Yugoslavia >50K Avg_time_work: 2.25\n"
     ]
    }
   ],
   "source": [
    "for (country, salary), sub_df in data.groupby(['native-country', 'salary']):\n",
    "    print(country, salary, 'Avg_time_work:' ,round(sub_df['hoursperweek'].mean(), 2))"
   ]
  },
  {
   "cell_type": "code",
   "execution_count": 27,
   "metadata": {},
   "outputs": [
    {
     "data": {
      "text/html": [
       "<div>\n",
       "<style scoped>\n",
       "    .dataframe tbody tr th:only-of-type {\n",
       "        vertical-align: middle;\n",
       "    }\n",
       "\n",
       "    .dataframe tbody tr th {\n",
       "        vertical-align: top;\n",
       "    }\n",
       "\n",
       "    .dataframe thead th {\n",
       "        text-align: right;\n",
       "    }\n",
       "</style>\n",
       "<table border=\"1\" class=\"dataframe\">\n",
       "  <thead>\n",
       "    <tr style=\"text-align: right;\">\n",
       "      <th>salary</th>\n",
       "      <th>&lt;=50K</th>\n",
       "      <th>&gt;50K</th>\n",
       "    </tr>\n",
       "    <tr>\n",
       "      <th>native-country</th>\n",
       "      <th></th>\n",
       "      <th></th>\n",
       "    </tr>\n",
       "  </thead>\n",
       "  <tbody>\n",
       "    <tr>\n",
       "      <th>Cambodia</th>\n",
       "      <td>2.052632</td>\n",
       "      <td>2.222222</td>\n",
       "    </tr>\n",
       "    <tr>\n",
       "      <th>Canada</th>\n",
       "      <td>1.739496</td>\n",
       "      <td>2.396825</td>\n",
       "    </tr>\n",
       "    <tr>\n",
       "      <th>China</th>\n",
       "      <td>1.674419</td>\n",
       "      <td>2.000000</td>\n",
       "    </tr>\n",
       "    <tr>\n",
       "      <th>Columbia</th>\n",
       "      <td>1.827160</td>\n",
       "      <td>3.000000</td>\n",
       "    </tr>\n",
       "    <tr>\n",
       "      <th>Cuba</th>\n",
       "      <td>1.884615</td>\n",
       "      <td>2.088235</td>\n",
       "    </tr>\n",
       "    <tr>\n",
       "      <th>Dominican-Republic</th>\n",
       "      <td>2.030612</td>\n",
       "      <td>2.200000</td>\n",
       "    </tr>\n",
       "    <tr>\n",
       "      <th>Ecuador</th>\n",
       "      <td>1.794872</td>\n",
       "      <td>2.666667</td>\n",
       "    </tr>\n",
       "    <tr>\n",
       "      <th>El-Salvador</th>\n",
       "      <td>1.645833</td>\n",
       "      <td>2.090909</td>\n",
       "    </tr>\n",
       "    <tr>\n",
       "      <th>England</th>\n",
       "      <td>1.825000</td>\n",
       "      <td>2.404255</td>\n",
       "    </tr>\n",
       "    <tr>\n",
       "      <th>France</th>\n",
       "      <td>1.954545</td>\n",
       "      <td>2.312500</td>\n",
       "    </tr>\n",
       "    <tr>\n",
       "      <th>Germany</th>\n",
       "      <td>1.844595</td>\n",
       "      <td>2.362069</td>\n",
       "    </tr>\n",
       "    <tr>\n",
       "      <th>Greece</th>\n",
       "      <td>2.032258</td>\n",
       "      <td>2.944444</td>\n",
       "    </tr>\n",
       "    <tr>\n",
       "      <th>Guatemala</th>\n",
       "      <td>1.894118</td>\n",
       "      <td>1.666667</td>\n",
       "    </tr>\n",
       "    <tr>\n",
       "      <th>Haiti</th>\n",
       "      <td>1.651515</td>\n",
       "      <td>1.888889</td>\n",
       "    </tr>\n",
       "    <tr>\n",
       "      <th>Holand-Netherlands</th>\n",
       "      <td>2.000000</td>\n",
       "      <td>NaN</td>\n",
       "    </tr>\n",
       "    <tr>\n",
       "      <th>Honduras</th>\n",
       "      <td>1.388889</td>\n",
       "      <td>2.500000</td>\n",
       "    </tr>\n",
       "    <tr>\n",
       "      <th>Hong</th>\n",
       "      <td>1.863636</td>\n",
       "      <td>2.250000</td>\n",
       "    </tr>\n",
       "    <tr>\n",
       "      <th>Hungary</th>\n",
       "      <td>1.538462</td>\n",
       "      <td>2.500000</td>\n",
       "    </tr>\n",
       "    <tr>\n",
       "      <th>India</th>\n",
       "      <td>1.741573</td>\n",
       "      <td>2.419355</td>\n",
       "    </tr>\n",
       "    <tr>\n",
       "      <th>Iran</th>\n",
       "      <td>1.945946</td>\n",
       "      <td>2.500000</td>\n",
       "    </tr>\n",
       "    <tr>\n",
       "      <th>Ireland</th>\n",
       "      <td>2.000000</td>\n",
       "      <td>2.272727</td>\n",
       "    </tr>\n",
       "    <tr>\n",
       "      <th>Italy</th>\n",
       "      <td>1.802817</td>\n",
       "      <td>2.352941</td>\n",
       "    </tr>\n",
       "    <tr>\n",
       "      <th>Jamaica</th>\n",
       "      <td>1.769231</td>\n",
       "      <td>2.200000</td>\n",
       "    </tr>\n",
       "    <tr>\n",
       "      <th>Japan</th>\n",
       "      <td>1.900000</td>\n",
       "      <td>2.437500</td>\n",
       "    </tr>\n",
       "    <tr>\n",
       "      <th>Laos</th>\n",
       "      <td>1.857143</td>\n",
       "      <td>2.000000</td>\n",
       "    </tr>\n",
       "    <tr>\n",
       "      <th>Mexico</th>\n",
       "      <td>1.913717</td>\n",
       "      <td>2.319149</td>\n",
       "    </tr>\n",
       "    <tr>\n",
       "      <th>Nicaragua</th>\n",
       "      <td>1.717391</td>\n",
       "      <td>1.666667</td>\n",
       "    </tr>\n",
       "    <tr>\n",
       "      <th>Outlying-US(Guam-USVI-etc)</th>\n",
       "      <td>2.000000</td>\n",
       "      <td>2.000000</td>\n",
       "    </tr>\n",
       "    <tr>\n",
       "      <th>Peru</th>\n",
       "      <td>1.666667</td>\n",
       "      <td>2.000000</td>\n",
       "    </tr>\n",
       "    <tr>\n",
       "      <th>Philippines</th>\n",
       "      <td>1.785714</td>\n",
       "      <td>2.211765</td>\n",
       "    </tr>\n",
       "    <tr>\n",
       "      <th>Poland</th>\n",
       "      <td>1.728571</td>\n",
       "      <td>2.000000</td>\n",
       "    </tr>\n",
       "    <tr>\n",
       "      <th>Portugal</th>\n",
       "      <td>2.000000</td>\n",
       "      <td>2.500000</td>\n",
       "    </tr>\n",
       "    <tr>\n",
       "      <th>Puerto-Rico</th>\n",
       "      <td>1.847561</td>\n",
       "      <td>2.000000</td>\n",
       "    </tr>\n",
       "    <tr>\n",
       "      <th>Scotland</th>\n",
       "      <td>1.944444</td>\n",
       "      <td>2.333333</td>\n",
       "    </tr>\n",
       "    <tr>\n",
       "      <th>South</th>\n",
       "      <td>1.957895</td>\n",
       "      <td>2.750000</td>\n",
       "    </tr>\n",
       "    <tr>\n",
       "      <th>Taiwan</th>\n",
       "      <td>1.615385</td>\n",
       "      <td>2.307692</td>\n",
       "    </tr>\n",
       "    <tr>\n",
       "      <th>Thailand</th>\n",
       "      <td>2.080000</td>\n",
       "      <td>3.000000</td>\n",
       "    </tr>\n",
       "    <tr>\n",
       "      <th>Trinadad&amp;Tobago</th>\n",
       "      <td>1.880000</td>\n",
       "      <td>2.000000</td>\n",
       "    </tr>\n",
       "    <tr>\n",
       "      <th>United-States</th>\n",
       "      <td>1.828233</td>\n",
       "      <td>2.334113</td>\n",
       "    </tr>\n",
       "    <tr>\n",
       "      <th>Vietnam</th>\n",
       "      <td>1.772152</td>\n",
       "      <td>2.000000</td>\n",
       "    </tr>\n",
       "    <tr>\n",
       "      <th>Yugoslavia</th>\n",
       "      <td>1.866667</td>\n",
       "      <td>2.250000</td>\n",
       "    </tr>\n",
       "  </tbody>\n",
       "</table>\n",
       "</div>"
      ],
      "text/plain": [
       "salary                         <=50K      >50K\n",
       "native-country                                \n",
       "Cambodia                    2.052632  2.222222\n",
       "Canada                      1.739496  2.396825\n",
       "China                       1.674419  2.000000\n",
       "Columbia                    1.827160  3.000000\n",
       "Cuba                        1.884615  2.088235\n",
       "Dominican-Republic          2.030612  2.200000\n",
       "Ecuador                     1.794872  2.666667\n",
       "El-Salvador                 1.645833  2.090909\n",
       "England                     1.825000  2.404255\n",
       "France                      1.954545  2.312500\n",
       "Germany                     1.844595  2.362069\n",
       "Greece                      2.032258  2.944444\n",
       "Guatemala                   1.894118  1.666667\n",
       "Haiti                       1.651515  1.888889\n",
       "Holand-Netherlands          2.000000       NaN\n",
       "Honduras                    1.388889  2.500000\n",
       "Hong                        1.863636  2.250000\n",
       "Hungary                     1.538462  2.500000\n",
       "India                       1.741573  2.419355\n",
       "Iran                        1.945946  2.500000\n",
       "Ireland                     2.000000  2.272727\n",
       "Italy                       1.802817  2.352941\n",
       "Jamaica                     1.769231  2.200000\n",
       "Japan                       1.900000  2.437500\n",
       "Laos                        1.857143  2.000000\n",
       "Mexico                      1.913717  2.319149\n",
       "Nicaragua                   1.717391  1.666667\n",
       "Outlying-US(Guam-USVI-etc)  2.000000  2.000000\n",
       "Peru                        1.666667  2.000000\n",
       "Philippines                 1.785714  2.211765\n",
       "Poland                      1.728571  2.000000\n",
       "Portugal                    2.000000  2.500000\n",
       "Puerto-Rico                 1.847561  2.000000\n",
       "Scotland                    1.944444  2.333333\n",
       "South                       1.957895  2.750000\n",
       "Taiwan                      1.615385  2.307692\n",
       "Thailand                    2.080000  3.000000\n",
       "Trinadad&Tobago             1.880000  2.000000\n",
       "United-States               1.828233  2.334113\n",
       "Vietnam                     1.772152  2.000000\n",
       "Yugoslavia                  1.866667  2.250000"
      ]
     },
     "execution_count": 27,
     "metadata": {},
     "output_type": "execute_result"
    }
   ],
   "source": [
    "# OR\n",
    "\n",
    "import numpy as np\n",
    "\n",
    "pd.crosstab(data['native-country'], data['salary'], \n",
    "           values=data['hoursperweek'], aggfunc=np.mean)"
   ]
  },
  {
   "cell_type": "code",
   "execution_count": 28,
   "metadata": {},
   "outputs": [
    {
     "data": {
      "text/html": [
       "<div>\n",
       "<style scoped>\n",
       "    .dataframe tbody tr th:only-of-type {\n",
       "        vertical-align: middle;\n",
       "    }\n",
       "\n",
       "    .dataframe tbody tr th {\n",
       "        vertical-align: top;\n",
       "    }\n",
       "\n",
       "    .dataframe thead th {\n",
       "        text-align: right;\n",
       "    }\n",
       "</style>\n",
       "<table border=\"1\" class=\"dataframe\">\n",
       "  <thead>\n",
       "    <tr style=\"text-align: right;\">\n",
       "      <th>native-country</th>\n",
       "      <th>Cambodia</th>\n",
       "      <th>Canada</th>\n",
       "      <th>China</th>\n",
       "      <th>Columbia</th>\n",
       "      <th>Cuba</th>\n",
       "      <th>Dominican-Republic</th>\n",
       "      <th>Ecuador</th>\n",
       "      <th>El-Salvador</th>\n",
       "      <th>England</th>\n",
       "      <th>France</th>\n",
       "      <th>...</th>\n",
       "      <th>Portugal</th>\n",
       "      <th>Puerto-Rico</th>\n",
       "      <th>Scotland</th>\n",
       "      <th>South</th>\n",
       "      <th>Taiwan</th>\n",
       "      <th>Thailand</th>\n",
       "      <th>Trinadad&amp;Tobago</th>\n",
       "      <th>United-States</th>\n",
       "      <th>Vietnam</th>\n",
       "      <th>Yugoslavia</th>\n",
       "    </tr>\n",
       "    <tr>\n",
       "      <th>salary</th>\n",
       "      <th></th>\n",
       "      <th></th>\n",
       "      <th></th>\n",
       "      <th></th>\n",
       "      <th></th>\n",
       "      <th></th>\n",
       "      <th></th>\n",
       "      <th></th>\n",
       "      <th></th>\n",
       "      <th></th>\n",
       "      <th></th>\n",
       "      <th></th>\n",
       "      <th></th>\n",
       "      <th></th>\n",
       "      <th></th>\n",
       "      <th></th>\n",
       "      <th></th>\n",
       "      <th></th>\n",
       "      <th></th>\n",
       "      <th></th>\n",
       "      <th></th>\n",
       "    </tr>\n",
       "  </thead>\n",
       "  <tbody>\n",
       "    <tr>\n",
       "      <th>&lt;=50K</th>\n",
       "      <td>2.052632</td>\n",
       "      <td>1.739496</td>\n",
       "      <td>1.674419</td>\n",
       "      <td>1.82716</td>\n",
       "      <td>1.884615</td>\n",
       "      <td>2.030612</td>\n",
       "      <td>1.794872</td>\n",
       "      <td>1.645833</td>\n",
       "      <td>1.825000</td>\n",
       "      <td>1.954545</td>\n",
       "      <td>...</td>\n",
       "      <td>2.0</td>\n",
       "      <td>1.847561</td>\n",
       "      <td>1.944444</td>\n",
       "      <td>1.957895</td>\n",
       "      <td>1.615385</td>\n",
       "      <td>2.08</td>\n",
       "      <td>1.88</td>\n",
       "      <td>1.828233</td>\n",
       "      <td>1.772152</td>\n",
       "      <td>1.866667</td>\n",
       "    </tr>\n",
       "    <tr>\n",
       "      <th>&gt;50K</th>\n",
       "      <td>2.222222</td>\n",
       "      <td>2.396825</td>\n",
       "      <td>2.000000</td>\n",
       "      <td>3.00000</td>\n",
       "      <td>2.088235</td>\n",
       "      <td>2.200000</td>\n",
       "      <td>2.666667</td>\n",
       "      <td>2.090909</td>\n",
       "      <td>2.404255</td>\n",
       "      <td>2.312500</td>\n",
       "      <td>...</td>\n",
       "      <td>2.5</td>\n",
       "      <td>2.000000</td>\n",
       "      <td>2.333333</td>\n",
       "      <td>2.750000</td>\n",
       "      <td>2.307692</td>\n",
       "      <td>3.00</td>\n",
       "      <td>2.00</td>\n",
       "      <td>2.334113</td>\n",
       "      <td>2.000000</td>\n",
       "      <td>2.250000</td>\n",
       "    </tr>\n",
       "  </tbody>\n",
       "</table>\n",
       "<p>2 rows × 41 columns</p>\n",
       "</div>"
      ],
      "text/plain": [
       "native-country  Cambodia    Canada     China  Columbia      Cuba  \\\n",
       "salary                                                             \n",
       "<=50K           2.052632  1.739496  1.674419   1.82716  1.884615   \n",
       ">50K            2.222222  2.396825  2.000000   3.00000  2.088235   \n",
       "\n",
       "native-country  Dominican-Republic   Ecuador  El-Salvador   England    France  \\\n",
       "salary                                                                          \n",
       "<=50K                     2.030612  1.794872     1.645833  1.825000  1.954545   \n",
       ">50K                      2.200000  2.666667     2.090909  2.404255  2.312500   \n",
       "\n",
       "native-country  ...  Portugal  Puerto-Rico  Scotland     South    Taiwan  \\\n",
       "salary          ...                                                        \n",
       "<=50K           ...       2.0     1.847561  1.944444  1.957895  1.615385   \n",
       ">50K            ...       2.5     2.000000  2.333333  2.750000  2.307692   \n",
       "\n",
       "native-country  Thailand  Trinadad&Tobago  United-States   Vietnam  Yugoslavia  \n",
       "salary                                                                          \n",
       "<=50K               2.08             1.88       1.828233  1.772152    1.866667  \n",
       ">50K                3.00             2.00       2.334113  2.000000    2.250000  \n",
       "\n",
       "[2 rows x 41 columns]"
      ]
     },
     "execution_count": 28,
     "metadata": {},
     "output_type": "execute_result"
    }
   ],
   "source": [
    "pd.crosstab(data['native-country'], data['salary'], \n",
    "           values=data['hoursperweek'], aggfunc=np.mean).T"
   ]
  },
  {
   "cell_type": "code",
   "execution_count": 39,
   "metadata": {},
   "outputs": [
    {
     "data": {
      "text/html": [
       "<div>\n",
       "<style scoped>\n",
       "    .dataframe tbody tr th:only-of-type {\n",
       "        vertical-align: middle;\n",
       "    }\n",
       "\n",
       "    .dataframe tbody tr th {\n",
       "        vertical-align: top;\n",
       "    }\n",
       "\n",
       "    .dataframe thead th {\n",
       "        text-align: right;\n",
       "    }\n",
       "</style>\n",
       "<table border=\"1\" class=\"dataframe\">\n",
       "  <thead>\n",
       "    <tr style=\"text-align: right;\">\n",
       "      <th>salary</th>\n",
       "      <th>&lt;=50K</th>\n",
       "      <th>&gt;50K</th>\n",
       "    </tr>\n",
       "    <tr>\n",
       "      <th>native-country</th>\n",
       "      <th></th>\n",
       "      <th></th>\n",
       "    </tr>\n",
       "  </thead>\n",
       "  <tbody>\n",
       "    <tr>\n",
       "      <th>False</th>\n",
       "      <td>1.830489</td>\n",
       "      <td>2.332218</td>\n",
       "    </tr>\n",
       "    <tr>\n",
       "      <th>True</th>\n",
       "      <td>1.900000</td>\n",
       "      <td>2.437500</td>\n",
       "    </tr>\n",
       "  </tbody>\n",
       "</table>\n",
       "</div>"
      ],
      "text/plain": [
       "salary             <=50K      >50K\n",
       "native-country                    \n",
       "False           1.830489  2.332218\n",
       "True            1.900000  2.437500"
      ]
     },
     "execution_count": 39,
     "metadata": {},
     "output_type": "execute_result"
    }
   ],
   "source": [
    "pd.crosstab(data['native-country'] == 'Japan', data['salary'], \n",
    "           values=data['hoursperweek'], aggfunc=np.mean)"
   ]
  },
  {
   "cell_type": "code",
   "execution_count": null,
   "metadata": {},
   "outputs": [],
   "source": [
    "# For Japan <=50K\t1.900000, >50K\t2.437500"
   ]
  },
  {
   "cell_type": "markdown",
   "metadata": {},
   "source": [
    "#################################################### The End #################################################################"
   ]
  },
  {
   "cell_type": "code",
   "execution_count": null,
   "metadata": {},
   "outputs": [],
   "source": []
  }
 ],
 "metadata": {
  "anaconda-cloud": {},
  "kernelspec": {
   "display_name": "Python 3",
   "language": "python",
   "name": "python3"
  },
  "language_info": {
   "codemirror_mode": {
    "name": "ipython",
    "version": 3
   },
   "file_extension": ".py",
   "mimetype": "text/x-python",
   "name": "python",
   "nbconvert_exporter": "python",
   "pygments_lexer": "ipython3",
   "version": "3.8.5"
  }
 },
 "nbformat": 4,
 "nbformat_minor": 1
}
